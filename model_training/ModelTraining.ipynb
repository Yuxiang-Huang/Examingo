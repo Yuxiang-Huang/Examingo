{
 "cells": [
  {
   "cell_type": "code",
   "execution_count": 19,
   "id": "bb20bbe1-8190-485e-ab0c-f24cde62faf0",
   "metadata": {},
   "outputs": [],
   "source": [
    "from huggingface_hub import notebook_login\n",
    "from datasets import load_dataset\n",
    "from transformers import AdamW, AutoTokenizer, AutoConfig, AutoModelForSeq2SeqLM, AutoModelForCausalLM, DataCollatorForSeq2Seq, Seq2SeqTrainingArguments, Seq2SeqTrainer, T5Tokenizer, T5ForConditionalGeneration, TrainingArguments, Trainer\n",
    "import numpy as np\n",
    "import evaluate\n",
    "import torch\n",
    "from torch import nn\n",
    "from torch.utils.data import DataLoader"
   ]
  },
  {
   "cell_type": "code",
   "execution_count": 3,
   "id": "59346d6f-60c3-4f4e-b042-8abb457ae231",
   "metadata": {},
   "outputs": [
    {
     "data": {
      "application/vnd.jupyter.widget-view+json": {
       "model_id": "5e2a3fb44a6a4cc89cb65f9426b04314",
       "version_major": 2,
       "version_minor": 0
      },
      "text/plain": [
       "VBox(children=(HTML(value='<center> <img\\nsrc=https://huggingface.co/front/assets/huggingface_logo-noborder.sv…"
      ]
     },
     "metadata": {},
     "output_type": "display_data"
    }
   ],
   "source": [
    "notebook_login()"
   ]
  },
  {
   "cell_type": "code",
   "execution_count": 2,
   "id": "7488bb85",
   "metadata": {},
   "outputs": [
    {
     "name": "stdout",
     "output_type": "stream",
     "text": [
      "cpu\n"
     ]
    }
   ],
   "source": [
    "device = \"cuda:0\" if torch.cuda.is_available() else \"cpu\"\n",
    "print(device)"
   ]
  },
  {
   "cell_type": "code",
   "execution_count": 194,
   "id": "086e43e4-309f-4e81-9d15-c2fac978d563",
   "metadata": {},
   "outputs": [],
   "source": [
    "# tokenizer = AutoTokenizer.from_pretrained(\"tiiuae/falcon-40b\", trust_remote_code=True)\n",
    "# model = AutoModelForCausalLM.from_pretrained(\"tiiuae/falcon-40b\", trust_remote_code=True, num_labels=5)\n",
    "# config = AutoConfig.from_pretrained(\"tiiuae/falcon-40b\", trust_remote_code=True)\n",
    "tokenizer = AutoTokenizer.from_pretrained(\"google/flan-t5-base\")\n",
    "model = AutoModelForSeq2SeqLM.from_pretrained(\"google/flan-t5-base\", num_labels=5)\n",
    "config = AutoConfig.from_pretrained(\"google/flan-t5-base\")"
   ]
  },
  {
   "cell_type": "code",
   "execution_count": 56,
   "id": "ac37dfbd-c275-4e8f-8e41-13b515cae15d",
   "metadata": {},
   "outputs": [
    {
     "data": {
      "application/vnd.jupyter.widget-view+json": {
       "model_id": "3d7153a23a0d453d92e3b45cb2a9bc44",
       "version_major": 2,
       "version_minor": 0
      },
      "text/plain": [
       "Downloading builder script:   0%|          | 0.00/5.35k [00:00<?, ?B/s]"
      ]
     },
     "metadata": {},
     "output_type": "display_data"
    },
    {
     "data": {
      "application/vnd.jupyter.widget-view+json": {
       "model_id": "8bef61777d1b48d3bee2099ea894e1f6",
       "version_major": 2,
       "version_minor": 0
      },
      "text/plain": [
       "Downloading metadata:   0%|          | 0.00/2.41k [00:00<?, ?B/s]"
      ]
     },
     "metadata": {},
     "output_type": "display_data"
    },
    {
     "data": {
      "application/vnd.jupyter.widget-view+json": {
       "model_id": "5dae9b9aa94147bcb3308d25b1b84c57",
       "version_major": 2,
       "version_minor": 0
      },
      "text/plain": [
       "Downloading readme:   0%|          | 0.00/10.5k [00:00<?, ?B/s]"
      ]
     },
     "metadata": {},
     "output_type": "display_data"
    },
    {
     "data": {
      "application/vnd.jupyter.widget-view+json": {
       "model_id": "4db88aa4e8d94aa5a997ab7572068cce",
       "version_major": 2,
       "version_minor": 0
      },
      "text/plain": [
       "Downloading data:   0%|          | 0.00/55.3M [00:00<?, ?B/s]"
      ]
     },
     "metadata": {},
     "output_type": "display_data"
    },
    {
     "data": {
      "application/vnd.jupyter.widget-view+json": {
       "model_id": "1f58e371bd5146d29e3fd5b8cf977086",
       "version_major": 2,
       "version_minor": 0
      },
      "text/plain": [
       "Generating train split:   0%|          | 0/182822 [00:00<?, ? examples/s]"
      ]
     },
     "metadata": {},
     "output_type": "display_data"
    },
    {
     "data": {
      "application/vnd.jupyter.widget-view+json": {
       "model_id": "14e4b5a90e9f49719f982fa7f69bf67e",
       "version_major": 2,
       "version_minor": 0
      },
      "text/plain": [
       "Generating test split:   0%|          | 0/6150 [00:00<?, ? examples/s]"
      ]
     },
     "metadata": {},
     "output_type": "display_data"
    },
    {
     "data": {
      "application/vnd.jupyter.widget-view+json": {
       "model_id": "83e2fc0e66c04727b69723830be24340",
       "version_major": 2,
       "version_minor": 0
      },
      "text/plain": [
       "Generating validation split:   0%|          | 0/4183 [00:00<?, ? examples/s]"
      ]
     },
     "metadata": {},
     "output_type": "display_data"
    }
   ],
   "source": [
    "# dataset = load_dataset(\"squad\")\n",
    "dataset = load_dataset(\"medmcqa\")"
   ]
  },
  {
   "cell_type": "code",
   "execution_count": 57,
   "id": "231778fa-95d5-4b88-ad26-f45f00bb0a8b",
   "metadata": {},
   "outputs": [
    {
     "data": {
      "text/plain": [
       "{'train': (182822, 11), 'test': (6150, 11), 'validation': (4183, 11)}"
      ]
     },
     "execution_count": 57,
     "metadata": {},
     "output_type": "execute_result"
    }
   ],
   "source": [
    "dataset.shape"
   ]
  },
  {
   "cell_type": "code",
   "execution_count": 211,
   "id": "fd92d710",
   "metadata": {},
   "outputs": [
    {
     "data": {
      "application/vnd.jupyter.widget-view+json": {
       "model_id": "34881e9118b645a68b876dcb6a7abb6d",
       "version_major": 2,
       "version_minor": 0
      },
      "text/plain": [
       "Map:   0%|          | 0/118404 [00:00<?, ? examples/s]"
      ]
     },
     "metadata": {},
     "output_type": "display_data"
    },
    {
     "data": {
      "application/vnd.jupyter.widget-view+json": {
       "model_id": "ef33c2d069ec407b8501d947a3872d96",
       "version_major": 2,
       "version_minor": 0
      },
      "text/plain": [
       "Map:   0%|          | 0/6150 [00:00<?, ? examples/s]"
      ]
     },
     "metadata": {},
     "output_type": "display_data"
    },
    {
     "data": {
      "application/vnd.jupyter.widget-view+json": {
       "model_id": "18a8ade566e64d0f8d159e2232c3199c",
       "version_major": 2,
       "version_minor": 0
      },
      "text/plain": [
       "Map:   0%|          | 0/1931 [00:00<?, ? examples/s]"
      ]
     },
     "metadata": {},
     "output_type": "display_data"
    }
   ],
   "source": [
    "formatted_dataset = dataset.filter(lambda example: example[\"exp\"]!=None and \"Ans.\" not in example[\"exp\"])\n",
    "# formatted_dataset = formatted_dataset.map(\n",
    "#     lambda example: {\n",
    "#         \"context\": example[\"exp\"],\n",
    "#         \"question\": example[\"question\"],\n",
    "#         \"opa\": example[\"opa\"],\n",
    "#         \"opb\": example[\"opb\"],\n",
    "#         \"opc\": example[\"opc\"],\n",
    "#         \"opd\": example[\"opd\"],\n",
    "#         \"answer_key\": example[\"cop\"]\n",
    "#     }\n",
    "# )\n",
    "def map_function(example):\n",
    "    correct_answer_key = \"opa\"\n",
    "    if example[\"cop\"] == 1:\n",
    "        correct_answer_key = \"opb\"\n",
    "    elif example[\"cop\"] == 2:\n",
    "        correct_answer_key = \"opc\"\n",
    "    else:\n",
    "        correct_answer_key = \"opd\"\n",
    "    option_a = example['opa']\n",
    "    example['opa'] = example[correct_answer_key]\n",
    "    example[correct_answer_key] = option_a\n",
    "    return {\n",
    "        \"exp\": example[\"exp\"],\n",
    "        \"question\": example[\"question\"],\n",
    "        \"opa\": example[\"opa\"],\n",
    "        \"opb\": example[\"opb\"],\n",
    "        \"opc\": example[\"opc\"],\n",
    "        \"opd\": example[\"opd\"]\n",
    "    }\n",
    "formatted_dataset = formatted_dataset.map(map_function)"
   ]
  },
  {
   "cell_type": "code",
   "execution_count": 231,
   "id": "3d5d9f29-9302-459e-95fc-059f849e67f5",
   "metadata": {},
   "outputs": [],
   "source": [
    "def tokenize_function(examples):\n",
    "#     text = f\"{examples['context']} Question: {examples['question']} Choices: {' '.join((examples['opa'], examples['opb'], examples['opc'], examples['opd']))} Answer: {examples['answer_key']}\"\n",
    "#     text = f\"{examples['question']} {' '.join((examples['opa'], examples['opb'], examples['opc'], examples['opd']))} Answer: {examples['answer_key']}\"\n",
    "#     tokens = tokenizer(text, truncation=True, padding=\"max_length\")\n",
    "#     labels = tokens['input_ids']\n",
    "    inputs = tokenizer(examples['exp'], padding=\"max_length\", truncation=True, max_length=256)\n",
    "    question_input = tokenizer(examples['question'], padding=\"max_length\", truncation=True, max_length=256)\n",
    "    opa_input = tokenizer(examples['opa'], padding=\"max_length\", truncation=True, max_length=256)\n",
    "    opb_input = tokenizer(examples['opb'], padding=\"max_length\", truncation=True, max_length=256)\n",
    "    opc_input = tokenizer(examples['opc'], padding=\"max_length\", truncation=True, max_length=256)\n",
    "    opd_input = tokenizer(examples['opd'], padding=\"max_length\", truncation=True, max_length=256)\n",
    "    labels_matrix = np.zeros((len(examples['exp']), 5, 256))\n",
    "    labels_matrix[:, 0] = question_input.input_ids\n",
    "    labels_matrix[:, 1] = opa_input.input_ids\n",
    "    labels_matrix[:, 2] = opb_input.input_ids\n",
    "    labels_matrix[:, 3] = opc_input.input_ids\n",
    "    labels_matrix[:, 4] = opd_input.input_ids\n",
    "    inputs['labels'] = labels_matrix.tolist()\n",
    "#     inputs['labels'] = tokenizer(f\"#question#> {examples['question']} #opa#> {examples['opa']} #opb#> {examples['opb']} #opc#> {examples['opc']} #opd#> {examples['opd']}\").input_ids\n",
    "    return inputs\n",
    "#     labels = {'question': question_input, \"opa\": opa_input, \"opb\": opb_input, \"opc\": opc_input, \"opd\": opd_input, \"answer_key\": answer_key_input}\n",
    "    \n",
    "#     inputs = tokens\n",
    "\n",
    "#     return {\n",
    "#         'input_ids': inputs['input_ids'],\n",
    "#         'attention_mask': inputs['attention_mask'],\n",
    "#         'labels': labels,\n",
    "#     }\n",
    "# def tokenize_function(examples):\n",
    "#     return {\"input_ids\": tokenizer(examples['context']).input_ids, \n",
    "#             \"labels\": tokenizer(\"Question: {} Answer: {}\".format(examples['question'], examples['answers']['text'][0])).input_ids}"
   ]
  },
  {
   "cell_type": "code",
   "execution_count": 232,
   "id": "ef26df5d-9f16-4895-8082-b075ac01687c",
   "metadata": {},
   "outputs": [
    {
     "data": {
      "application/vnd.jupyter.widget-view+json": {
       "model_id": "87259e57e5af4e7f9ac6b15b21eaf1bc",
       "version_major": 2,
       "version_minor": 0
      },
      "text/plain": [
       "Map:   0%|          | 0/118404 [00:00<?, ? examples/s]"
      ]
     },
     "metadata": {},
     "output_type": "display_data"
    },
    {
     "data": {
      "application/vnd.jupyter.widget-view+json": {
       "model_id": "64cfeff3c34b4fddb57d236f97d84a2e",
       "version_major": 2,
       "version_minor": 0
      },
      "text/plain": [
       "Map:   0%|          | 0/6150 [00:00<?, ? examples/s]"
      ]
     },
     "metadata": {},
     "output_type": "display_data"
    },
    {
     "data": {
      "application/vnd.jupyter.widget-view+json": {
       "model_id": "642e1c1bad554d2492466a20b99ecb44",
       "version_major": 2,
       "version_minor": 0
      },
      "text/plain": [
       "Map:   0%|          | 0/1931 [00:00<?, ? examples/s]"
      ]
     },
     "metadata": {},
     "output_type": "display_data"
    }
   ],
   "source": [
    "tokenized_datasets = formatted_dataset.map(tokenize_function, remove_columns=dataset['train'].column_names)"
   ]
  },
  {
   "cell_type": "code",
   "execution_count": 247,
   "id": "a84ece1c",
   "metadata": {},
   "outputs": [
    {
     "name": "stdout",
     "output_type": "stream",
     "text": [
      "{'input_ids': [389, 7, 18, 9, 5, 37, 30, 509, 1225, 1666, 13, 8, 5798, 3140, 8, 212, 12851, 725, 19, 705, 145, 24, 13, 5798, 7084, 34, 2846, 21220, 27, 301, 102, 683, 536, 7769, 5, 117, 152, 2444, 1902, 87, 15, 3, 102, 4122, 25342, 834, 61, 517, 40, 32, 935, 4885, 30, 509, 1225, 1666, 41, 1259, 15, 12, 18309, 3619, 738, 61, 19, 1146, 145, 24, 13, 15775, 342, 30, 509, 1225, 1666, 16, 10715, 348, 31, 7, 13445, 121, 134, 77, 565, 17320, 19, 14019, 3, 23161, 11, 8, 5798, 16, 8, 10715, 348, 31, 7, 13445, 19, 19, 32, 17, 4554, 28, 18309, 6, 8, 6145, 13, 17320, 16, 8, 15775, 342, 19, 8, 337, 38, 16, 8, 212, 12851, 725, 1, 0, 0, 0, 0, 0, 0, 0, 0, 0, 0, 0, 0, 0, 0, 0, 0, 0, 0, 0, 0, 0, 0, 0, 0, 0, 0, 0, 0, 0, 0, 0, 0, 0, 0, 0, 0, 0, 0, 0, 0, 0, 0, 0, 0, 0, 0, 0, 0, 0, 0, 0, 0, 0, 0, 0, 0, 0, 0, 0, 0, 0, 0, 0, 0, 0, 0, 0, 0, 0, 0, 0, 0, 0, 0, 0, 0, 0, 0, 0, 0, 0, 0, 0, 0, 0, 0, 0, 0, 0, 0, 0, 0, 0, 0, 0, 0, 0, 0, 0, 0, 0, 0, 0, 0, 0, 0, 0, 0, 0, 0, 0, 0, 0, 0, 0, 0, 0, 0, 0, 0, 0, 0, 0, 0, 0, 0, 0, 0, 0, 0], 'attention_mask': [1, 1, 1, 1, 1, 1, 1, 1, 1, 1, 1, 1, 1, 1, 1, 1, 1, 1, 1, 1, 1, 1, 1, 1, 1, 1, 1, 1, 1, 1, 1, 1, 1, 1, 1, 1, 1, 1, 1, 1, 1, 1, 1, 1, 1, 1, 1, 1, 1, 1, 1, 1, 1, 1, 1, 1, 1, 1, 1, 1, 1, 1, 1, 1, 1, 1, 1, 1, 1, 1, 1, 1, 1, 1, 1, 1, 1, 1, 1, 1, 1, 1, 1, 1, 1, 1, 1, 1, 1, 1, 1, 1, 1, 1, 1, 1, 1, 1, 1, 1, 1, 1, 1, 1, 1, 1, 1, 1, 1, 1, 1, 1, 1, 1, 1, 1, 1, 1, 1, 1, 1, 1, 1, 1, 1, 1, 0, 0, 0, 0, 0, 0, 0, 0, 0, 0, 0, 0, 0, 0, 0, 0, 0, 0, 0, 0, 0, 0, 0, 0, 0, 0, 0, 0, 0, 0, 0, 0, 0, 0, 0, 0, 0, 0, 0, 0, 0, 0, 0, 0, 0, 0, 0, 0, 0, 0, 0, 0, 0, 0, 0, 0, 0, 0, 0, 0, 0, 0, 0, 0, 0, 0, 0, 0, 0, 0, 0, 0, 0, 0, 0, 0, 0, 0, 0, 0, 0, 0, 0, 0, 0, 0, 0, 0, 0, 0, 0, 0, 0, 0, 0, 0, 0, 0, 0, 0, 0, 0, 0, 0, 0, 0, 0, 0, 0, 0, 0, 0, 0, 0, 0, 0, 0, 0, 0, 0, 0, 0, 0, 0, 0, 0, 0, 0, 0, 0], 'labels': [1713, 2, 994, 102, 4663, 3155, 389, 7, 18, 9, 5, 37, 30, 509, 1225, 1666, 13, 8, 5798, 3140, 8, 212, 12851, 725, 19, 705, 145, 24, 13, 5798, 7084, 34, 2846, 21220, 27, 301, 102, 683, 536, 7769, 5, 117, 152, 2444, 1902, 87, 15, 3, 102, 4122, 25342, 834, 61, 517, 40, 32, 935, 4885, 30, 509, 1225, 1666, 41, 1259, 15, 12, 18309, 3619, 738, 61, 19, 1146, 145, 24, 13, 15775, 342, 30, 509, 1225, 1666, 16, 10715, 348, 31, 7, 13445, 121, 134, 77, 565, 17320, 19, 14019, 3, 23161, 11, 8, 5798, 16, 8, 10715, 348, 31, 7, 13445, 19, 19, 32, 17, 4554, 28, 18309, 6, 8, 6145, 13, 17320, 16, 8, 15775, 342, 19, 8, 337, 38, 16, 8, 212, 12851, 725, 1713, 2, 7771, 1575, 4663, 3155, 4073, 13, 8, 826, 19, 59, 1176, 81, 3, 24422, 4885, 212, 12851, 725, 31, 61, 1713, 2, 32, 102, 9, 4663, 3155, 216, 3357, 32, 12563, 13, 8, 5798, 3140, 8, 212, 12851, 725, 19, 705, 145, 24, 13, 8, 5798, 7084, 34, 1713, 2, 32, 102, 115, 4663, 3155, 3, 21597, 509, 7, 15, 6145, 16, 8, 212, 12851, 725, 19, 8, 337, 38, 24, 16, 3, 24422, 4885, 15775, 342, 1713, 2, 32, 102, 75, 4663, 3155, 7762, 3929, 1575, 13, 3, 9, 7010, 295, 3, 9, 15, 27953, 15, 6313, 7, 8, 1717, 2537, 12, 8, 3, 24422, 83, 9, 7, 1713, 2, 32, 102, 26, 4663, 3155, 37, 30, 509, 1225, 1666, 13, 8, 5798, 3140, 8, 212, 12851, 725, 19, 705, 145, 24, 13, 5798, 7084, 34, 1]}\n"
     ]
    }
   ],
   "source": [
    "print(tokenized_datasets['validation'][0])"
   ]
  },
  {
   "cell_type": "code",
   "execution_count": 242,
   "id": "6ac28299-7337-47d3-a97e-15d6bd64485d",
   "metadata": {},
   "outputs": [],
   "source": [
    "small_train_dataset = tokenized_datasets[\"train\"].shuffle(seed=42).select(range(50))\n",
    "small_eval_dataset = tokenized_datasets[\"validation\"].shuffle(seed=42).select(range(50))"
   ]
  },
  {
   "cell_type": "code",
   "execution_count": 134,
   "id": "2499d281-4720-4f6a-852d-bd834d442b10",
   "metadata": {},
   "outputs": [
    {
     "name": "stderr",
     "output_type": "stream",
     "text": [
      "D:\\miniconda3\\envs\\read-for-speed\\Lib\\site-packages\\transformers\\generation\\utils.py:1369: UserWarning: Using `max_length`'s default (20) to control the generation length. This behaviour is deprecated and will be removed from the config in v5 of Transformers -- we recommend using `max_new_tokens` to control the maximum length of the generation.\n",
      "  warnings.warn(\n"
     ]
    },
    {
     "name": "stdout",
     "output_type": "stream",
     "text": [
      "Question: What is bob's name?Options:A BobB BobC\n"
     ]
    }
   ],
   "source": [
    "text = \"Create a multiple choice question from the following text: My name is bob. I have five cats.\"\n",
    "tokenized_text = tokenizer(text, return_tensors='pt').input_ids\n",
    "outputs = model.generate(tokenized_text)\n",
    "print(tokenizer.decode(outputs[0], skip_special_tokens=True))"
   ]
  },
  {
   "cell_type": "code",
   "execution_count": 243,
   "id": "28778301-6823-4cbc-ae1b-2a5075c3c622",
   "metadata": {},
   "outputs": [],
   "source": [
    "batch_size = 4\n",
    "# args = Seq2SeqTrainingArguments(\n",
    "args = TrainingArguments(\n",
    "    \"read-for-speed-test-model\",\n",
    "    evaluation_strategy = \"epoch\",\n",
    "    learning_rate=2e-3,\n",
    "    per_device_train_batch_size=batch_size,\n",
    "    per_device_eval_batch_size=batch_size,\n",
    "    weight_decay=0.01,\n",
    "    save_total_limit=3,\n",
    "    num_train_epochs=2,\n",
    "#     predict_with_generate=True,\n",
    "#     push_to_hub=True,\n",
    "    push_to_hub=False\n",
    ")\n",
    "\n",
    "data_collator = DataCollatorForSeq2Seq(tokenizer, model=model)"
   ]
  },
  {
   "cell_type": "code",
   "execution_count": 244,
   "id": "8b153762-6a2b-4191-8f1b-ef4b1e103ce6",
   "metadata": {
    "scrolled": true
   },
   "outputs": [
    {
     "data": {
      "text/html": [
       "\n",
       "    <div>\n",
       "      \n",
       "      <progress value='26' max='26' style='width:300px; height:20px; vertical-align: middle;'></progress>\n",
       "      [26/26 15:57, Epoch 2/2]\n",
       "    </div>\n",
       "    <table border=\"1\" class=\"dataframe\">\n",
       "  <thead>\n",
       " <tr style=\"text-align: left;\">\n",
       "      <th>Epoch</th>\n",
       "      <th>Training Loss</th>\n",
       "      <th>Validation Loss</th>\n",
       "    </tr>\n",
       "  </thead>\n",
       "  <tbody>\n",
       "    <tr>\n",
       "      <td>1</td>\n",
       "      <td>No log</td>\n",
       "      <td>1.092706</td>\n",
       "    </tr>\n",
       "    <tr>\n",
       "      <td>2</td>\n",
       "      <td>No log</td>\n",
       "      <td>0.940038</td>\n",
       "    </tr>\n",
       "  </tbody>\n",
       "</table><p>"
      ],
      "text/plain": [
       "<IPython.core.display.HTML object>"
      ]
     },
     "metadata": {},
     "output_type": "display_data"
    },
    {
     "data": {
      "text/plain": [
       "TrainOutput(global_step=26, training_loss=1.0821060767540565, metrics={'train_runtime': 972.6663, 'train_samples_per_second': 0.103, 'train_steps_per_second': 0.027, 'total_flos': 34237867622400.0, 'train_loss': 1.0821060767540565, 'epoch': 2.0})"
      ]
     },
     "execution_count": 244,
     "metadata": {},
     "output_type": "execute_result"
    }
   ],
   "source": [
    "# trainer = Seq2SeqTrainer(\n",
    "trainer = Trainer(\n",
    "    model,\n",
    "    args,\n",
    "    train_dataset=small_train_dataset,\n",
    "    eval_dataset=small_eval_dataset,\n",
    "    data_collator=data_collator,\n",
    "    tokenizer=tokenizer,\n",
    ")\n",
    "\n",
    "trainer.train()"
   ]
  },
  {
   "cell_type": "code",
   "execution_count": 246,
   "id": "c923f8eb-0d30-42eb-9ae8-c01005acca34",
   "metadata": {},
   "outputs": [
    {
     "name": "stdout",
     "output_type": "stream",
     "text": [
      "tensor([[   0, 1713,    2,  994,  102, 4663, 3155,  363,   19,   95,   58,    8,\n",
      "         5796, 1713,    2, 7771, 1575, 4663, 3155,  363]])\n",
      "#exp#> What is up? the sky #question#> What\n"
     ]
    }
   ],
   "source": [
    "text = \"What is up? the sky\"\n",
    "tokenized_text = tokenizer(text, return_tensors='pt').input_ids\n",
    "outputs = model.generate(tokenized_text)\n",
    "print(outputs)\n",
    "print(tokenizer.decode(outputs[0], skip_special_tokens=True))"
   ]
  },
  {
   "cell_type": "code",
   "execution_count": 13,
   "id": "260a8ad0",
   "metadata": {},
   "outputs": [
    {
     "data": {
      "application/vnd.jupyter.widget-view+json": {
       "model_id": "d33e10c83e434b65af20b039a2a36e8b",
       "version_major": 2,
       "version_minor": 0
      },
      "text/plain": [
       "Upload file pytorch_model.bin:   0%|          | 1.00/945M [00:00<?, ?B/s]"
      ]
     },
     "metadata": {},
     "output_type": "display_data"
    },
    {
     "data": {
      "application/vnd.jupyter.widget-view+json": {
       "model_id": "c9d3095e3332476fad5e8a767cb0156b",
       "version_major": 2,
       "version_minor": 0
      },
      "text/plain": [
       "Upload file runs/Oct17_13-39-37_DESKTOP-Q7BHUCL/events.out.tfevents.1697564386.DESKTOP-Q7BHUCL.17232.0:   0%| …"
      ]
     },
     "metadata": {},
     "output_type": "display_data"
    },
    {
     "data": {
      "application/vnd.jupyter.widget-view+json": {
       "model_id": "643e4337e21f4bd59c91932812b248bd",
       "version_major": 2,
       "version_minor": 0
      },
      "text/plain": [
       "Upload file spiece.model:   0%|          | 1.00/773k [00:00<?, ?B/s]"
      ]
     },
     "metadata": {},
     "output_type": "display_data"
    },
    {
     "data": {
      "application/vnd.jupyter.widget-view+json": {
       "model_id": "3d88c49776d04e5f83521a29bcefb0c1",
       "version_major": 2,
       "version_minor": 0
      },
      "text/plain": [
       "Upload file training_args.bin:   0%|          | 1.00/4.06k [00:00<?, ?B/s]"
      ]
     },
     "metadata": {},
     "output_type": "display_data"
    },
    {
     "name": "stderr",
     "output_type": "stream",
     "text": [
      "To https://huggingface.co/AJCheu/read-for-speed-test-model\n",
      "   02df199..f1b38f6  main -> main\n",
      "\n",
      "To https://huggingface.co/AJCheu/read-for-speed-test-model\n",
      "   f1b38f6..7952045  main -> main\n",
      "\n"
     ]
    },
    {
     "data": {
      "text/plain": [
       "'https://huggingface.co/AJCheu/read-for-speed-test-model/commit/f1b38f65b98e61fb4d7bb9de37b296c4118abd12'"
      ]
     },
     "execution_count": 13,
     "metadata": {},
     "output_type": "execute_result"
    }
   ],
   "source": [
    "trainer.push_to_hub(\"End of training\")"
   ]
  },
  {
   "cell_type": "code",
   "execution_count": 3,
   "id": "c34bb486",
   "metadata": {},
   "outputs": [],
   "source": [
    "class CustomT5ForTextGeneration(torch.nn.Module):\n",
    "    def __init__(self, num_labels, t5_model_name=\"google/flan-t5-base\"):\n",
    "        super(CustomT5ForTextGeneration, self).__init__()\n",
    "        \n",
    "        # Load the pre-trained T5 model\n",
    "        self.t5 = T5ForConditionalGeneration.from_pretrained(t5_model_name)\n",
    "        for param in self.t5.parameters():\n",
    "             param.requires_grad = False\n",
    "        \n",
    "        # Define a new model head for text generation\n",
    "        self.text_generation_head = torch.nn.Linear(self.t5.config.d_model, num_labels)\n",
    "\n",
    "    def forward(self, input_ids, attention_mask=None, decoder_input_ids=None, **kwargs):\n",
    "        # Use the T5 model to get hidden states\n",
    "        outputs = self.t5(input_ids=input_ids, attention_mask=attention_mask, decoder_input_ids=decoder_input_ids, **kwargs)\n",
    "        \n",
    "        # Pass the hidden states through the text generation head\n",
    "        text_outputs = self.text_generation_head(outputs.last_hidden_state)\n",
    "        \n",
    "        return text_outputs\n",
    "\n",
    "num_labels = 5  # Number of text generation outputs\n",
    "model = CustomT5ForTextGeneration(num_labels)"
   ]
  },
  {
   "cell_type": "code",
   "execution_count": 4,
   "id": "153f9245",
   "metadata": {},
   "outputs": [
    {
     "name": "stderr",
     "output_type": "stream",
     "text": [
      "You are using the legacy behaviour of the <class 'transformers.models.t5.tokenization_t5.T5Tokenizer'>. This means that tokens that come after special tokens will not be properly handled. We recommend you to read the related pull request available at https://github.com/huggingface/transformers/pull/24565\n"
     ]
    }
   ],
   "source": [
    "tokenizer = T5Tokenizer.from_pretrained(\"google/flan-t5-xxl\")"
   ]
  },
  {
   "cell_type": "code",
   "execution_count": 5,
   "id": "2f7a5d2b",
   "metadata": {},
   "outputs": [],
   "source": [
    "dataset = load_dataset(\"medmcqa\")"
   ]
  },
  {
   "cell_type": "code",
   "execution_count": 6,
   "id": "45aa95bc",
   "metadata": {},
   "outputs": [],
   "source": [
    "formatted_dataset = dataset.filter(lambda example: example[\"exp\"]!=None and \"Ans.\" not in example[\"exp\"])\n",
    "def map_function(example):\n",
    "    correct_answer_key = \"opa\"\n",
    "    if example[\"cop\"] == 1:\n",
    "        correct_answer_key = \"opb\"\n",
    "    elif example[\"cop\"] == 2:\n",
    "        correct_answer_key = \"opc\"\n",
    "    else:\n",
    "        correct_answer_key = \"opd\"\n",
    "    option_a = example['opa']\n",
    "    example['opa'] = example[correct_answer_key]\n",
    "    example[correct_answer_key] = option_a\n",
    "    return {\n",
    "        \"exp\": example[\"exp\"],\n",
    "        \"question\": example[\"question\"],\n",
    "        \"opa\": example[\"opa\"],\n",
    "        \"opb\": example[\"opb\"],\n",
    "        \"opc\": example[\"opc\"],\n",
    "        \"opd\": example[\"opd\"]\n",
    "    }\n",
    "formatted_dataset = formatted_dataset.map(map_function)"
   ]
  },
  {
   "cell_type": "code",
   "execution_count": 9,
   "id": "ab1a6e9f",
   "metadata": {},
   "outputs": [],
   "source": [
    "def tokenize_function(examples):\n",
    "    inputs = tokenizer(examples['exp'], padding=\"max_length\", truncation=True, max_length=256)\n",
    "    question_input = tokenizer(examples['question'], padding=\"max_length\", truncation=True, max_length=256)\n",
    "    opa_input = tokenizer(examples['opa'], padding=\"max_length\", truncation=True, max_length=256)\n",
    "    opb_input = tokenizer(examples['opb'], padding=\"max_length\", truncation=True, max_length=256)\n",
    "    opc_input = tokenizer(examples['opc'], padding=\"max_length\", truncation=True, max_length=256)\n",
    "    opd_input = tokenizer(examples['opd'], padding=\"max_length\", truncation=True, max_length=256)\n",
    "    labels_matrix = np.zeros((len(examples['exp']), 5, 256))\n",
    "    labels_matrix[:, 0] = question_input.input_ids\n",
    "    labels_matrix[:, 1] = opa_input.input_ids\n",
    "    labels_matrix[:, 2] = opb_input.input_ids\n",
    "    labels_matrix[:, 3] = opc_input.input_ids\n",
    "    labels_matrix[:, 4] = opd_input.input_ids\n",
    "    inputs['labels'] = labels_matrix.tolist()\n",
    "    return inputs"
   ]
  },
  {
   "cell_type": "code",
   "execution_count": 10,
   "id": "86e82afd",
   "metadata": {},
   "outputs": [
    {
     "data": {
      "application/vnd.jupyter.widget-view+json": {
       "model_id": "a710522aaf764f71a529c73e02dc4788",
       "version_major": 2,
       "version_minor": 0
      },
      "text/plain": [
       "Map:   0%|          | 0/118404 [00:00<?, ? examples/s]"
      ]
     },
     "metadata": {},
     "output_type": "display_data"
    },
    {
     "data": {
      "application/vnd.jupyter.widget-view+json": {
       "model_id": "686f7cb2d728416e9275523536856ac9",
       "version_major": 2,
       "version_minor": 0
      },
      "text/plain": [
       "Map:   0%|          | 0/6150 [00:00<?, ? examples/s]"
      ]
     },
     "metadata": {},
     "output_type": "display_data"
    },
    {
     "data": {
      "application/vnd.jupyter.widget-view+json": {
       "model_id": "b0fb96b3efdc427989640251f5f7fe08",
       "version_major": 2,
       "version_minor": 0
      },
      "text/plain": [
       "Map:   0%|          | 0/1931 [00:00<?, ? examples/s]"
      ]
     },
     "metadata": {},
     "output_type": "display_data"
    }
   ],
   "source": [
    "tokenized_datasets = formatted_dataset.map(tokenize_function, batched=True, remove_columns=dataset['train'].column_names)"
   ]
  },
  {
   "cell_type": "code",
   "execution_count": 11,
   "id": "1e0a12b0",
   "metadata": {},
   "outputs": [],
   "source": [
    "small_train_dataset = tokenized_datasets[\"train\"].shuffle(seed=42).select(range(50))\n",
    "small_eval_dataset = tokenized_datasets[\"validation\"].shuffle(seed=42).select(range(50))"
   ]
  },
  {
   "cell_type": "code",
   "execution_count": 14,
   "id": "efa8dc84",
   "metadata": {},
   "outputs": [],
   "source": [
    "train_dataloader = DataLoader(small_train_dataset, batch_size=2, shuffle=True)\n",
    "eval_dataloader = DataLoader(small_eval_dataset, batch_size=2)"
   ]
  },
  {
   "cell_type": "code",
   "execution_count": 21,
   "id": "0c098661",
   "metadata": {},
   "outputs": [],
   "source": [
    "t5_model = T5ForConditionalGeneration.from_pretrained(\"google/flan-t5-base\")\n",
    "tokenizer = T5Tokenizer.from_pretrained(\"google/flan-t5-base\")"
   ]
  },
  {
   "cell_type": "code",
   "execution_count": 22,
   "id": "a633f888",
   "metadata": {},
   "outputs": [],
   "source": [
    "custom_head = torch.nn.Linear(t5_model.config.d_model, 5)"
   ]
  },
  {
   "cell_type": "code",
   "execution_count": 20,
   "id": "bbeecada",
   "metadata": {},
   "outputs": [
    {
     "name": "stderr",
     "output_type": "stream",
     "text": [
      "D:\\miniconda3\\envs\\read-for-speed\\Lib\\site-packages\\transformers\\optimization.py:411: FutureWarning: This implementation of AdamW is deprecated and will be removed in a future version. Use the PyTorch implementation torch.optim.AdamW instead, or set `no_deprecation_warning=True` to disable this warning\n",
      "  warnings.warn(\n"
     ]
    }
   ],
   "source": [
    "optimizer = AdamW(custom_head.parameters(), lr=1e-4)"
   ]
  },
  {
   "cell_type": "code",
   "execution_count": 30,
   "id": "c7f340bd",
   "metadata": {},
   "outputs": [
    {
     "ename": "AttributeError",
     "evalue": "'list' object has no attribute 'size'",
     "output_type": "error",
     "traceback": [
      "\u001b[1;31m---------------------------------------------------------------------------\u001b[0m",
      "\u001b[1;31mAttributeError\u001b[0m                            Traceback (most recent call last)",
      "Cell \u001b[1;32mIn[30], line 13\u001b[0m\n\u001b[0;32m     11\u001b[0m input_batch, attention_mask, target_batch \u001b[38;5;241m=\u001b[39m batch\u001b[38;5;241m.\u001b[39mvalues()\n\u001b[0;32m     12\u001b[0m \u001b[38;5;66;03m# Forward pass through the T5 model\u001b[39;00m\n\u001b[1;32m---> 13\u001b[0m t5_outputs \u001b[38;5;241m=\u001b[39m \u001b[43mt5_model\u001b[49m\u001b[43m(\u001b[49m\u001b[43minput_ids\u001b[49m\u001b[38;5;241;43m=\u001b[39;49m\u001b[43minput_batch\u001b[49m\u001b[43m,\u001b[49m\u001b[43m \u001b[49m\u001b[43mattention_mask\u001b[49m\u001b[38;5;241;43m=\u001b[39;49m\u001b[43mattention_mask\u001b[49m\u001b[43m)\u001b[49m\n\u001b[0;32m     15\u001b[0m \u001b[38;5;66;03m# Pass T5 outputs through the custom head\u001b[39;00m\n\u001b[0;32m     16\u001b[0m custom_head_outputs \u001b[38;5;241m=\u001b[39m custom_head(t5_outputs\u001b[38;5;241m.\u001b[39mlast_hidden_state)\n",
      "File \u001b[1;32mD:\\miniconda3\\envs\\read-for-speed\\Lib\\site-packages\\torch\\nn\\modules\\module.py:1501\u001b[0m, in \u001b[0;36mModule._call_impl\u001b[1;34m(self, *args, **kwargs)\u001b[0m\n\u001b[0;32m   1496\u001b[0m \u001b[38;5;66;03m# If we don't have any hooks, we want to skip the rest of the logic in\u001b[39;00m\n\u001b[0;32m   1497\u001b[0m \u001b[38;5;66;03m# this function, and just call forward.\u001b[39;00m\n\u001b[0;32m   1498\u001b[0m \u001b[38;5;28;01mif\u001b[39;00m \u001b[38;5;129;01mnot\u001b[39;00m (\u001b[38;5;28mself\u001b[39m\u001b[38;5;241m.\u001b[39m_backward_hooks \u001b[38;5;129;01mor\u001b[39;00m \u001b[38;5;28mself\u001b[39m\u001b[38;5;241m.\u001b[39m_backward_pre_hooks \u001b[38;5;129;01mor\u001b[39;00m \u001b[38;5;28mself\u001b[39m\u001b[38;5;241m.\u001b[39m_forward_hooks \u001b[38;5;129;01mor\u001b[39;00m \u001b[38;5;28mself\u001b[39m\u001b[38;5;241m.\u001b[39m_forward_pre_hooks\n\u001b[0;32m   1499\u001b[0m         \u001b[38;5;129;01mor\u001b[39;00m _global_backward_pre_hooks \u001b[38;5;129;01mor\u001b[39;00m _global_backward_hooks\n\u001b[0;32m   1500\u001b[0m         \u001b[38;5;129;01mor\u001b[39;00m _global_forward_hooks \u001b[38;5;129;01mor\u001b[39;00m _global_forward_pre_hooks):\n\u001b[1;32m-> 1501\u001b[0m     \u001b[38;5;28;01mreturn\u001b[39;00m \u001b[43mforward_call\u001b[49m\u001b[43m(\u001b[49m\u001b[38;5;241;43m*\u001b[39;49m\u001b[43margs\u001b[49m\u001b[43m,\u001b[49m\u001b[43m \u001b[49m\u001b[38;5;241;43m*\u001b[39;49m\u001b[38;5;241;43m*\u001b[39;49m\u001b[43mkwargs\u001b[49m\u001b[43m)\u001b[49m\n\u001b[0;32m   1502\u001b[0m \u001b[38;5;66;03m# Do not call functions when jit is used\u001b[39;00m\n\u001b[0;32m   1503\u001b[0m full_backward_hooks, non_full_backward_hooks \u001b[38;5;241m=\u001b[39m [], []\n",
      "File \u001b[1;32mD:\\miniconda3\\envs\\read-for-speed\\Lib\\site-packages\\transformers\\models\\t5\\modeling_t5.py:1680\u001b[0m, in \u001b[0;36mT5ForConditionalGeneration.forward\u001b[1;34m(self, input_ids, attention_mask, decoder_input_ids, decoder_attention_mask, head_mask, decoder_head_mask, cross_attn_head_mask, encoder_outputs, past_key_values, inputs_embeds, decoder_inputs_embeds, labels, use_cache, output_attentions, output_hidden_states, return_dict)\u001b[0m\n\u001b[0;32m   1677\u001b[0m \u001b[38;5;66;03m# Encode if needed (training, first prediction pass)\u001b[39;00m\n\u001b[0;32m   1678\u001b[0m \u001b[38;5;28;01mif\u001b[39;00m encoder_outputs \u001b[38;5;129;01mis\u001b[39;00m \u001b[38;5;28;01mNone\u001b[39;00m:\n\u001b[0;32m   1679\u001b[0m     \u001b[38;5;66;03m# Convert encoder inputs in embeddings if needed\u001b[39;00m\n\u001b[1;32m-> 1680\u001b[0m     encoder_outputs \u001b[38;5;241m=\u001b[39m \u001b[38;5;28;43mself\u001b[39;49m\u001b[38;5;241;43m.\u001b[39;49m\u001b[43mencoder\u001b[49m\u001b[43m(\u001b[49m\n\u001b[0;32m   1681\u001b[0m \u001b[43m        \u001b[49m\u001b[43minput_ids\u001b[49m\u001b[38;5;241;43m=\u001b[39;49m\u001b[43minput_ids\u001b[49m\u001b[43m,\u001b[49m\n\u001b[0;32m   1682\u001b[0m \u001b[43m        \u001b[49m\u001b[43mattention_mask\u001b[49m\u001b[38;5;241;43m=\u001b[39;49m\u001b[43mattention_mask\u001b[49m\u001b[43m,\u001b[49m\n\u001b[0;32m   1683\u001b[0m \u001b[43m        \u001b[49m\u001b[43minputs_embeds\u001b[49m\u001b[38;5;241;43m=\u001b[39;49m\u001b[43minputs_embeds\u001b[49m\u001b[43m,\u001b[49m\n\u001b[0;32m   1684\u001b[0m \u001b[43m        \u001b[49m\u001b[43mhead_mask\u001b[49m\u001b[38;5;241;43m=\u001b[39;49m\u001b[43mhead_mask\u001b[49m\u001b[43m,\u001b[49m\n\u001b[0;32m   1685\u001b[0m \u001b[43m        \u001b[49m\u001b[43moutput_attentions\u001b[49m\u001b[38;5;241;43m=\u001b[39;49m\u001b[43moutput_attentions\u001b[49m\u001b[43m,\u001b[49m\n\u001b[0;32m   1686\u001b[0m \u001b[43m        \u001b[49m\u001b[43moutput_hidden_states\u001b[49m\u001b[38;5;241;43m=\u001b[39;49m\u001b[43moutput_hidden_states\u001b[49m\u001b[43m,\u001b[49m\n\u001b[0;32m   1687\u001b[0m \u001b[43m        \u001b[49m\u001b[43mreturn_dict\u001b[49m\u001b[38;5;241;43m=\u001b[39;49m\u001b[43mreturn_dict\u001b[49m\u001b[43m,\u001b[49m\n\u001b[0;32m   1688\u001b[0m \u001b[43m    \u001b[49m\u001b[43m)\u001b[49m\n\u001b[0;32m   1689\u001b[0m \u001b[38;5;28;01melif\u001b[39;00m return_dict \u001b[38;5;129;01mand\u001b[39;00m \u001b[38;5;129;01mnot\u001b[39;00m \u001b[38;5;28misinstance\u001b[39m(encoder_outputs, BaseModelOutput):\n\u001b[0;32m   1690\u001b[0m     encoder_outputs \u001b[38;5;241m=\u001b[39m BaseModelOutput(\n\u001b[0;32m   1691\u001b[0m         last_hidden_state\u001b[38;5;241m=\u001b[39mencoder_outputs[\u001b[38;5;241m0\u001b[39m],\n\u001b[0;32m   1692\u001b[0m         hidden_states\u001b[38;5;241m=\u001b[39mencoder_outputs[\u001b[38;5;241m1\u001b[39m] \u001b[38;5;28;01mif\u001b[39;00m \u001b[38;5;28mlen\u001b[39m(encoder_outputs) \u001b[38;5;241m>\u001b[39m \u001b[38;5;241m1\u001b[39m \u001b[38;5;28;01melse\u001b[39;00m \u001b[38;5;28;01mNone\u001b[39;00m,\n\u001b[0;32m   1693\u001b[0m         attentions\u001b[38;5;241m=\u001b[39mencoder_outputs[\u001b[38;5;241m2\u001b[39m] \u001b[38;5;28;01mif\u001b[39;00m \u001b[38;5;28mlen\u001b[39m(encoder_outputs) \u001b[38;5;241m>\u001b[39m \u001b[38;5;241m2\u001b[39m \u001b[38;5;28;01melse\u001b[39;00m \u001b[38;5;28;01mNone\u001b[39;00m,\n\u001b[0;32m   1694\u001b[0m     )\n",
      "File \u001b[1;32mD:\\miniconda3\\envs\\read-for-speed\\Lib\\site-packages\\torch\\nn\\modules\\module.py:1501\u001b[0m, in \u001b[0;36mModule._call_impl\u001b[1;34m(self, *args, **kwargs)\u001b[0m\n\u001b[0;32m   1496\u001b[0m \u001b[38;5;66;03m# If we don't have any hooks, we want to skip the rest of the logic in\u001b[39;00m\n\u001b[0;32m   1497\u001b[0m \u001b[38;5;66;03m# this function, and just call forward.\u001b[39;00m\n\u001b[0;32m   1498\u001b[0m \u001b[38;5;28;01mif\u001b[39;00m \u001b[38;5;129;01mnot\u001b[39;00m (\u001b[38;5;28mself\u001b[39m\u001b[38;5;241m.\u001b[39m_backward_hooks \u001b[38;5;129;01mor\u001b[39;00m \u001b[38;5;28mself\u001b[39m\u001b[38;5;241m.\u001b[39m_backward_pre_hooks \u001b[38;5;129;01mor\u001b[39;00m \u001b[38;5;28mself\u001b[39m\u001b[38;5;241m.\u001b[39m_forward_hooks \u001b[38;5;129;01mor\u001b[39;00m \u001b[38;5;28mself\u001b[39m\u001b[38;5;241m.\u001b[39m_forward_pre_hooks\n\u001b[0;32m   1499\u001b[0m         \u001b[38;5;129;01mor\u001b[39;00m _global_backward_pre_hooks \u001b[38;5;129;01mor\u001b[39;00m _global_backward_hooks\n\u001b[0;32m   1500\u001b[0m         \u001b[38;5;129;01mor\u001b[39;00m _global_forward_hooks \u001b[38;5;129;01mor\u001b[39;00m _global_forward_pre_hooks):\n\u001b[1;32m-> 1501\u001b[0m     \u001b[38;5;28;01mreturn\u001b[39;00m \u001b[43mforward_call\u001b[49m\u001b[43m(\u001b[49m\u001b[38;5;241;43m*\u001b[39;49m\u001b[43margs\u001b[49m\u001b[43m,\u001b[49m\u001b[43m \u001b[49m\u001b[38;5;241;43m*\u001b[39;49m\u001b[38;5;241;43m*\u001b[39;49m\u001b[43mkwargs\u001b[49m\u001b[43m)\u001b[49m\n\u001b[0;32m   1502\u001b[0m \u001b[38;5;66;03m# Do not call functions when jit is used\u001b[39;00m\n\u001b[0;32m   1503\u001b[0m full_backward_hooks, non_full_backward_hooks \u001b[38;5;241m=\u001b[39m [], []\n",
      "File \u001b[1;32mD:\\miniconda3\\envs\\read-for-speed\\Lib\\site-packages\\transformers\\models\\t5\\modeling_t5.py:981\u001b[0m, in \u001b[0;36mT5Stack.forward\u001b[1;34m(self, input_ids, attention_mask, encoder_hidden_states, encoder_attention_mask, inputs_embeds, head_mask, cross_attn_head_mask, past_key_values, use_cache, output_attentions, output_hidden_states, return_dict)\u001b[0m\n\u001b[0;32m    977\u001b[0m     \u001b[38;5;28;01mraise\u001b[39;00m \u001b[38;5;167;01mValueError\u001b[39;00m(\n\u001b[0;32m    978\u001b[0m         \u001b[38;5;124mf\u001b[39m\u001b[38;5;124m\"\u001b[39m\u001b[38;5;124mYou cannot specify both \u001b[39m\u001b[38;5;132;01m{\u001b[39;00merr_msg_prefix\u001b[38;5;132;01m}\u001b[39;00m\u001b[38;5;124minput_ids and \u001b[39m\u001b[38;5;132;01m{\u001b[39;00merr_msg_prefix\u001b[38;5;132;01m}\u001b[39;00m\u001b[38;5;124minputs_embeds at the same time\u001b[39m\u001b[38;5;124m\"\u001b[39m\n\u001b[0;32m    979\u001b[0m     )\n\u001b[0;32m    980\u001b[0m \u001b[38;5;28;01melif\u001b[39;00m input_ids \u001b[38;5;129;01mis\u001b[39;00m \u001b[38;5;129;01mnot\u001b[39;00m \u001b[38;5;28;01mNone\u001b[39;00m:\n\u001b[1;32m--> 981\u001b[0m     input_shape \u001b[38;5;241m=\u001b[39m \u001b[43minput_ids\u001b[49m\u001b[38;5;241;43m.\u001b[39;49m\u001b[43msize\u001b[49m()\n\u001b[0;32m    982\u001b[0m     input_ids \u001b[38;5;241m=\u001b[39m input_ids\u001b[38;5;241m.\u001b[39mview(\u001b[38;5;241m-\u001b[39m\u001b[38;5;241m1\u001b[39m, input_shape[\u001b[38;5;241m-\u001b[39m\u001b[38;5;241m1\u001b[39m])\n\u001b[0;32m    983\u001b[0m \u001b[38;5;28;01melif\u001b[39;00m inputs_embeds \u001b[38;5;129;01mis\u001b[39;00m \u001b[38;5;129;01mnot\u001b[39;00m \u001b[38;5;28;01mNone\u001b[39;00m:\n",
      "\u001b[1;31mAttributeError\u001b[0m: 'list' object has no attribute 'size'"
     ]
    }
   ],
   "source": [
    "num_epochs = 5\n",
    "eval_interval = 1\n",
    "\n",
    "for epoch in range(num_epochs):\n",
    "    total_loss = 0.0\n",
    "\n",
    "    # Training phase\n",
    "    t5_model.train()\n",
    "    for batch in train_dataloader:\n",
    "        optimizer.zero_grad()\n",
    "        input_batch, attention_mask, target_batch = batch.values()\n",
    "        # Forward pass through the T5 model\n",
    "        t5_outputs = t5_model(input_ids=input_batch, attention_mask=attention_mask)\n",
    "\n",
    "        # Pass T5 outputs through the custom head\n",
    "        custom_head_outputs = custom_head(t5_outputs.last_hidden_state)\n",
    "\n",
    "        # Calculate loss and perform backpropagation\n",
    "        loss = torch.nn.functional.cross_entropy(custom_head_outputs, target_batch)\n",
    "        loss.backward()\n",
    "        optimizer.step()\n",
    "\n",
    "        total_loss += loss.item()\n",
    "\n",
    "    average_loss = total_loss / len(train_dataloader)\n",
    "    print(f\"Epoch {epoch + 1}, Train Loss: {average_loss:.4f}\")\n",
    "\n",
    "    # Evaluation phase\n",
    "    if (epoch + 1) % eval_interval == 0:\n",
    "        t5_model.eval()\n",
    "        eval_loss = 0.0\n",
    "\n",
    "        with torch.no_grad():\n",
    "            for batch in eval_dataloader:\n",
    "                input_batch, attention_mask, target_batch = batch.values()\n",
    "\n",
    "                # Forward pass during evaluation\n",
    "                t5_outputs = t5_model(input_ids=input_batch, attention_mask=attention_mask)\n",
    "                custom_head_outputs = custom_head(t5_outputs.last_hidden_state)\n",
    "\n",
    "                # Calculate evaluation loss\n",
    "                loss = torch.nn.functional.cross_entropy(custom_head_outputs, target_batch)\n",
    "                eval_loss += loss.item()\n",
    "\n",
    "        average_eval_loss = eval_loss / len(eval_dataloader)\n",
    "        print(f\"Epoch {epoch + 1}, Evaluation Loss: {average_eval_loss:.4f}\")"
   ]
  },
  {
   "cell_type": "code",
   "execution_count": 32,
   "id": "60c73497",
   "metadata": {
    "collapsed": true
   },
   "outputs": [
    {
     "ename": "AttributeError",
     "evalue": "'CustomT5ForTextGeneration' object has no attribute 'generate'",
     "output_type": "error",
     "traceback": [
      "\u001b[1;31m---------------------------------------------------------------------------\u001b[0m",
      "\u001b[1;31mAttributeError\u001b[0m                            Traceback (most recent call last)",
      "Cell \u001b[1;32mIn[32], line 2\u001b[0m\n\u001b[0;32m      1\u001b[0m testingmodel \u001b[38;5;241m=\u001b[39m T5ForConditionalGeneration\u001b[38;5;241m.\u001b[39mfrom_pretrained(\u001b[38;5;124m\"\u001b[39m\u001b[38;5;124mgoogle/flan-t5-base\u001b[39m\u001b[38;5;124m\"\u001b[39m, num_labels\u001b[38;5;241m=\u001b[39m\u001b[38;5;241m5\u001b[39m)\n\u001b[1;32m----> 2\u001b[0m output \u001b[38;5;241m=\u001b[39m \u001b[43mmodel\u001b[49m\u001b[38;5;241;43m.\u001b[39;49m\u001b[43mgenerate\u001b[49m(tokenizer(\u001b[38;5;124m\"\u001b[39m\u001b[38;5;124mtranslate English to German: How old are you?\u001b[39m\u001b[38;5;124m\"\u001b[39m, return_tensors\u001b[38;5;241m=\u001b[39m\u001b[38;5;124m\"\u001b[39m\u001b[38;5;124mpt\u001b[39m\u001b[38;5;124m\"\u001b[39m)\u001b[38;5;241m.\u001b[39minput_ids)\n",
      "File \u001b[1;32mD:\\miniconda3\\envs\\read-for-speed\\Lib\\site-packages\\torch\\nn\\modules\\module.py:1614\u001b[0m, in \u001b[0;36mModule.__getattr__\u001b[1;34m(self, name)\u001b[0m\n\u001b[0;32m   1612\u001b[0m     \u001b[38;5;28;01mif\u001b[39;00m name \u001b[38;5;129;01min\u001b[39;00m modules:\n\u001b[0;32m   1613\u001b[0m         \u001b[38;5;28;01mreturn\u001b[39;00m modules[name]\n\u001b[1;32m-> 1614\u001b[0m \u001b[38;5;28;01mraise\u001b[39;00m \u001b[38;5;167;01mAttributeError\u001b[39;00m(\u001b[38;5;124m\"\u001b[39m\u001b[38;5;124m'\u001b[39m\u001b[38;5;132;01m{}\u001b[39;00m\u001b[38;5;124m'\u001b[39m\u001b[38;5;124m object has no attribute \u001b[39m\u001b[38;5;124m'\u001b[39m\u001b[38;5;132;01m{}\u001b[39;00m\u001b[38;5;124m'\u001b[39m\u001b[38;5;124m\"\u001b[39m\u001b[38;5;241m.\u001b[39mformat(\n\u001b[0;32m   1615\u001b[0m     \u001b[38;5;28mtype\u001b[39m(\u001b[38;5;28mself\u001b[39m)\u001b[38;5;241m.\u001b[39m\u001b[38;5;18m__name__\u001b[39m, name))\n",
      "\u001b[1;31mAttributeError\u001b[0m: 'CustomT5ForTextGeneration' object has no attribute 'generate'"
     ]
    }
   ],
   "source": [
    "testingmodel = T5ForConditionalGeneration.from_pretrained(\"google/flan-t5-base\", num_labels=5)"
   ]
  },
  {
   "cell_type": "code",
   "execution_count": 33,
   "id": "564f014d",
   "metadata": {},
   "outputs": [
    {
     "name": "stderr",
     "output_type": "stream",
     "text": [
      "D:\\miniconda3\\envs\\read-for-speed\\Lib\\site-packages\\transformers\\generation\\utils.py:1369: UserWarning: Using `max_length`'s default (20) to control the generation length. This behaviour is deprecated and will be removed from the config in v5 of Transformers -- we recommend using `max_new_tokens` to control the maximum length of the generation.\n",
      "  warnings.warn(\n"
     ]
    }
   ],
   "source": [
    "output = testingmodel.generate(tokenizer(\"translate English to German: How old are you?\", return_tensors=\"pt\").input_ids)"
   ]
  },
  {
   "cell_type": "code",
   "execution_count": 35,
   "id": "967baa34",
   "metadata": {},
   "outputs": [
    {
     "name": "stdout",
     "output_type": "stream",
     "text": [
      "<pad> Wie old sind Sie?</s>\n"
     ]
    }
   ],
   "source": [
    "print(tokenizer.decode(output[0]))"
   ]
  },
  {
   "cell_type": "code",
   "execution_count": null,
   "id": "73425f39",
   "metadata": {},
   "outputs": [],
   "source": []
  }
 ],
 "metadata": {
  "kernelspec": {
   "display_name": "read-for-speed-kernel",
   "language": "python",
   "name": "read-for-speed-kernel"
  },
  "language_info": {
   "codemirror_mode": {
    "name": "ipython",
    "version": 3
   },
   "file_extension": ".py",
   "mimetype": "text/x-python",
   "name": "python",
   "nbconvert_exporter": "python",
   "pygments_lexer": "ipython3",
   "version": "3.11.4"
  }
 },
 "nbformat": 4,
 "nbformat_minor": 5
}
