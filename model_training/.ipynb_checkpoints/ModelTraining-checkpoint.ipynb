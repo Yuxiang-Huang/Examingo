{
 "cells": [
  {
   "cell_type": "code",
   "execution_count": 1,
   "id": "bb20bbe1-8190-485e-ab0c-f24cde62faf0",
   "metadata": {},
   "outputs": [],
   "source": [
    "from huggingface_hub import notebook_login\n",
    "from datasets import load_dataset\n",
    "from transformers import AutoTokenizer, AutoConfig, AutoModelForSeq2SeqLM, AutoModelForCausalLM, DataCollatorForSeq2Seq, Seq2SeqTrainingArguments, Seq2SeqTrainer, TrainingArguments, Trainer\n",
    "import numpy as np\n",
    "import evaluate\n",
    "import torch\n",
    "from torch import nn"
   ]
  },
  {
   "cell_type": "code",
   "execution_count": 3,
   "id": "59346d6f-60c3-4f4e-b042-8abb457ae231",
   "metadata": {},
   "outputs": [
    {
     "data": {
      "application/vnd.jupyter.widget-view+json": {
       "model_id": "5e2a3fb44a6a4cc89cb65f9426b04314",
       "version_major": 2,
       "version_minor": 0
      },
      "text/plain": [
       "VBox(children=(HTML(value='<center> <img\\nsrc=https://huggingface.co/front/assets/huggingface_logo-noborder.sv…"
      ]
     },
     "metadata": {},
     "output_type": "display_data"
    }
   ],
   "source": [
    "notebook_login()"
   ]
  },
  {
   "cell_type": "code",
   "execution_count": 2,
   "id": "7488bb85",
   "metadata": {},
   "outputs": [
    {
     "name": "stdout",
     "output_type": "stream",
     "text": [
      "cpu\n"
     ]
    }
   ],
   "source": [
    "device = \"cuda:0\" if torch.cuda.is_available() else \"cpu\"\n",
    "print(device)"
   ]
  },
  {
   "cell_type": "code",
   "execution_count": 194,
   "id": "086e43e4-309f-4e81-9d15-c2fac978d563",
   "metadata": {},
   "outputs": [],
   "source": [
    "# tokenizer = AutoTokenizer.from_pretrained(\"tiiuae/falcon-40b\", trust_remote_code=True)\n",
    "# model = AutoModelForCausalLM.from_pretrained(\"tiiuae/falcon-40b\", trust_remote_code=True, num_labels=5)\n",
    "# config = AutoConfig.from_pretrained(\"tiiuae/falcon-40b\", trust_remote_code=True)\n",
    "tokenizer = AutoTokenizer.from_pretrained(\"google/flan-t5-base\")\n",
    "model = AutoModelForSeq2SeqLM.from_pretrained(\"google/flan-t5-base\", num_labels=5)\n",
    "config = AutoConfig.from_pretrained(\"google/flan-t5-base\")"
   ]
  },
  {
   "cell_type": "code",
   "execution_count": 56,
   "id": "ac37dfbd-c275-4e8f-8e41-13b515cae15d",
   "metadata": {},
   "outputs": [
    {
     "data": {
      "application/vnd.jupyter.widget-view+json": {
       "model_id": "3d7153a23a0d453d92e3b45cb2a9bc44",
       "version_major": 2,
       "version_minor": 0
      },
      "text/plain": [
       "Downloading builder script:   0%|          | 0.00/5.35k [00:00<?, ?B/s]"
      ]
     },
     "metadata": {},
     "output_type": "display_data"
    },
    {
     "data": {
      "application/vnd.jupyter.widget-view+json": {
       "model_id": "8bef61777d1b48d3bee2099ea894e1f6",
       "version_major": 2,
       "version_minor": 0
      },
      "text/plain": [
       "Downloading metadata:   0%|          | 0.00/2.41k [00:00<?, ?B/s]"
      ]
     },
     "metadata": {},
     "output_type": "display_data"
    },
    {
     "data": {
      "application/vnd.jupyter.widget-view+json": {
       "model_id": "5dae9b9aa94147bcb3308d25b1b84c57",
       "version_major": 2,
       "version_minor": 0
      },
      "text/plain": [
       "Downloading readme:   0%|          | 0.00/10.5k [00:00<?, ?B/s]"
      ]
     },
     "metadata": {},
     "output_type": "display_data"
    },
    {
     "data": {
      "application/vnd.jupyter.widget-view+json": {
       "model_id": "4db88aa4e8d94aa5a997ab7572068cce",
       "version_major": 2,
       "version_minor": 0
      },
      "text/plain": [
       "Downloading data:   0%|          | 0.00/55.3M [00:00<?, ?B/s]"
      ]
     },
     "metadata": {},
     "output_type": "display_data"
    },
    {
     "data": {
      "application/vnd.jupyter.widget-view+json": {
       "model_id": "1f58e371bd5146d29e3fd5b8cf977086",
       "version_major": 2,
       "version_minor": 0
      },
      "text/plain": [
       "Generating train split:   0%|          | 0/182822 [00:00<?, ? examples/s]"
      ]
     },
     "metadata": {},
     "output_type": "display_data"
    },
    {
     "data": {
      "application/vnd.jupyter.widget-view+json": {
       "model_id": "14e4b5a90e9f49719f982fa7f69bf67e",
       "version_major": 2,
       "version_minor": 0
      },
      "text/plain": [
       "Generating test split:   0%|          | 0/6150 [00:00<?, ? examples/s]"
      ]
     },
     "metadata": {},
     "output_type": "display_data"
    },
    {
     "data": {
      "application/vnd.jupyter.widget-view+json": {
       "model_id": "83e2fc0e66c04727b69723830be24340",
       "version_major": 2,
       "version_minor": 0
      },
      "text/plain": [
       "Generating validation split:   0%|          | 0/4183 [00:00<?, ? examples/s]"
      ]
     },
     "metadata": {},
     "output_type": "display_data"
    }
   ],
   "source": [
    "# dataset = load_dataset(\"squad\")\n",
    "dataset = load_dataset(\"medmcqa\")"
   ]
  },
  {
   "cell_type": "code",
   "execution_count": 57,
   "id": "231778fa-95d5-4b88-ad26-f45f00bb0a8b",
   "metadata": {},
   "outputs": [
    {
     "data": {
      "text/plain": [
       "{'train': (182822, 11), 'test': (6150, 11), 'validation': (4183, 11)}"
      ]
     },
     "execution_count": 57,
     "metadata": {},
     "output_type": "execute_result"
    }
   ],
   "source": [
    "dataset.shape"
   ]
  },
  {
   "cell_type": "code",
   "execution_count": 211,
   "id": "fd92d710",
   "metadata": {},
   "outputs": [
    {
     "data": {
      "application/vnd.jupyter.widget-view+json": {
       "model_id": "34881e9118b645a68b876dcb6a7abb6d",
       "version_major": 2,
       "version_minor": 0
      },
      "text/plain": [
       "Map:   0%|          | 0/118404 [00:00<?, ? examples/s]"
      ]
     },
     "metadata": {},
     "output_type": "display_data"
    },
    {
     "data": {
      "application/vnd.jupyter.widget-view+json": {
       "model_id": "ef33c2d069ec407b8501d947a3872d96",
       "version_major": 2,
       "version_minor": 0
      },
      "text/plain": [
       "Map:   0%|          | 0/6150 [00:00<?, ? examples/s]"
      ]
     },
     "metadata": {},
     "output_type": "display_data"
    },
    {
     "data": {
      "application/vnd.jupyter.widget-view+json": {
       "model_id": "18a8ade566e64d0f8d159e2232c3199c",
       "version_major": 2,
       "version_minor": 0
      },
      "text/plain": [
       "Map:   0%|          | 0/1931 [00:00<?, ? examples/s]"
      ]
     },
     "metadata": {},
     "output_type": "display_data"
    }
   ],
   "source": [
    "formatted_dataset = dataset.filter(lambda example: example[\"exp\"]!=None and \"Ans.\" not in example[\"exp\"])\n",
    "# formatted_dataset = formatted_dataset.map(\n",
    "#     lambda example: {\n",
    "#         \"context\": example[\"exp\"],\n",
    "#         \"question\": example[\"question\"],\n",
    "#         \"opa\": example[\"opa\"],\n",
    "#         \"opb\": example[\"opb\"],\n",
    "#         \"opc\": example[\"opc\"],\n",
    "#         \"opd\": example[\"opd\"],\n",
    "#         \"answer_key\": example[\"cop\"]\n",
    "#     }\n",
    "# )\n",
    "def map_function(example):\n",
    "    correct_answer_key = \"opa\"\n",
    "    if example[\"cop\"] == 1:\n",
    "        correct_answer_key = \"opb\"\n",
    "    elif example[\"cop\"] == 2:\n",
    "        correct_answer_key = \"opc\"\n",
    "    else:\n",
    "        correct_answer_key = \"opd\"\n",
    "    option_a = example['opa']\n",
    "    example['opa'] = example[correct_answer_key]\n",
    "    example[correct_answer_key] = option_a\n",
    "    return {\n",
    "        \"exp\": example[\"exp\"],\n",
    "        \"question\": example[\"question\"],\n",
    "        \"opa\": example[\"opa\"],\n",
    "        \"opb\": example[\"opb\"],\n",
    "        \"opc\": example[\"opc\"],\n",
    "        \"opd\": example[\"opd\"]\n",
    "    }\n",
    "formatted_dataset = formatted_dataset.map(map_function)"
   ]
  },
  {
   "cell_type": "code",
   "execution_count": 231,
   "id": "3d5d9f29-9302-459e-95fc-059f849e67f5",
   "metadata": {},
   "outputs": [],
   "source": [
    "def tokenize_function(examples):\n",
    "#     text = f\"{examples['context']} Question: {examples['question']} Choices: {' '.join((examples['opa'], examples['opb'], examples['opc'], examples['opd']))} Answer: {examples['answer_key']}\"\n",
    "#     text = f\"{examples['question']} {' '.join((examples['opa'], examples['opb'], examples['opc'], examples['opd']))} Answer: {examples['answer_key']}\"\n",
    "#     tokens = tokenizer(text, truncation=True, padding=\"max_length\")\n",
    "#     labels = tokens['input_ids']\n",
    "    inputs = tokenizer(examples['exp'], padding=\"max_length\", truncation=True, max_length=256)\n",
    "#     question_input = tokenizer(examples['question'], padding=\"max_length\", truncation=True, max_length=256)\n",
    "#     opa_input = tokenizer(examples['opa'], padding=\"max_length\", truncation=True, max_length=256)\n",
    "#     opb_input = tokenizer(examples['opb'], padding=\"max_length\", truncation=True, max_length=256)\n",
    "#     opc_input = tokenizer(examples['opc'], padding=\"max_length\", truncation=True, max_length=256)\n",
    "#     opd_input = tokenizer(examples['opd'], padding=\"max_length\", truncation=True, max_length=256)\n",
    "#     labels_matrix = np.zeros((len(examples['exp']), 5, 256))\n",
    "#     labels_matrix[:, 0] = question_input.input_ids\n",
    "#     labels_matrix[:, 1] = opa_input.input_ids\n",
    "#     labels_matrix[:, 2] = opb_input.input_ids\n",
    "#     labels_matrix[:, 3] = opc_input.input_ids\n",
    "#     labels_matrix[:, 4] = opd_input.input_ids\n",
    "#     inputs['labels'] = labels_matrix.tolist()\n",
    "    inputs['labels'] = tokenizer(f\"#question#> {examples['question']} #opa#> {examples['opa']} #opb#> {examples['opb']} #opc#> {examples['opc']} #opd#> {examples['opd']}\").input_ids\n",
    "    return inputs\n",
    "#     labels = {'question': question_input, \"opa\": opa_input, \"opb\": opb_input, \"opc\": opc_input, \"opd\": opd_input, \"answer_key\": answer_key_input}\n",
    "    \n",
    "#     inputs = tokens\n",
    "\n",
    "#     return {\n",
    "#         'input_ids': inputs['input_ids'],\n",
    "#         'attention_mask': inputs['attention_mask'],\n",
    "#         'labels': labels,\n",
    "#     }\n",
    "# def tokenize_function(examples):\n",
    "#     return {\"input_ids\": tokenizer(examples['context']).input_ids, \n",
    "#             \"labels\": tokenizer(\"Question: {} Answer: {}\".format(examples['question'], examples['answers']['text'][0])).input_ids}"
   ]
  },
  {
   "cell_type": "code",
   "execution_count": 232,
   "id": "ef26df5d-9f16-4895-8082-b075ac01687c",
   "metadata": {},
   "outputs": [
    {
     "data": {
      "application/vnd.jupyter.widget-view+json": {
       "model_id": "87259e57e5af4e7f9ac6b15b21eaf1bc",
       "version_major": 2,
       "version_minor": 0
      },
      "text/plain": [
       "Map:   0%|          | 0/118404 [00:00<?, ? examples/s]"
      ]
     },
     "metadata": {},
     "output_type": "display_data"
    },
    {
     "data": {
      "application/vnd.jupyter.widget-view+json": {
       "model_id": "64cfeff3c34b4fddb57d236f97d84a2e",
       "version_major": 2,
       "version_minor": 0
      },
      "text/plain": [
       "Map:   0%|          | 0/6150 [00:00<?, ? examples/s]"
      ]
     },
     "metadata": {},
     "output_type": "display_data"
    },
    {
     "data": {
      "application/vnd.jupyter.widget-view+json": {
       "model_id": "642e1c1bad554d2492466a20b99ecb44",
       "version_major": 2,
       "version_minor": 0
      },
      "text/plain": [
       "Map:   0%|          | 0/1931 [00:00<?, ? examples/s]"
      ]
     },
     "metadata": {},
     "output_type": "display_data"
    }
   ],
   "source": [
    "tokenized_datasets = formatted_dataset.map(tokenize_function, remove_columns=dataset['train'].column_names)"
   ]
  },
  {
   "cell_type": "code",
   "execution_count": 247,
   "id": "a84ece1c",
   "metadata": {},
   "outputs": [
    {
     "name": "stdout",
     "output_type": "stream",
     "text": [
      "{'input_ids': [389, 7, 18, 9, 5, 37, 30, 509, 1225, 1666, 13, 8, 5798, 3140, 8, 212, 12851, 725, 19, 705, 145, 24, 13, 5798, 7084, 34, 2846, 21220, 27, 301, 102, 683, 536, 7769, 5, 117, 152, 2444, 1902, 87, 15, 3, 102, 4122, 25342, 834, 61, 517, 40, 32, 935, 4885, 30, 509, 1225, 1666, 41, 1259, 15, 12, 18309, 3619, 738, 61, 19, 1146, 145, 24, 13, 15775, 342, 30, 509, 1225, 1666, 16, 10715, 348, 31, 7, 13445, 121, 134, 77, 565, 17320, 19, 14019, 3, 23161, 11, 8, 5798, 16, 8, 10715, 348, 31, 7, 13445, 19, 19, 32, 17, 4554, 28, 18309, 6, 8, 6145, 13, 17320, 16, 8, 15775, 342, 19, 8, 337, 38, 16, 8, 212, 12851, 725, 1, 0, 0, 0, 0, 0, 0, 0, 0, 0, 0, 0, 0, 0, 0, 0, 0, 0, 0, 0, 0, 0, 0, 0, 0, 0, 0, 0, 0, 0, 0, 0, 0, 0, 0, 0, 0, 0, 0, 0, 0, 0, 0, 0, 0, 0, 0, 0, 0, 0, 0, 0, 0, 0, 0, 0, 0, 0, 0, 0, 0, 0, 0, 0, 0, 0, 0, 0, 0, 0, 0, 0, 0, 0, 0, 0, 0, 0, 0, 0, 0, 0, 0, 0, 0, 0, 0, 0, 0, 0, 0, 0, 0, 0, 0, 0, 0, 0, 0, 0, 0, 0, 0, 0, 0, 0, 0, 0, 0, 0, 0, 0, 0, 0, 0, 0, 0, 0, 0, 0, 0, 0, 0, 0, 0, 0, 0, 0, 0, 0, 0], 'attention_mask': [1, 1, 1, 1, 1, 1, 1, 1, 1, 1, 1, 1, 1, 1, 1, 1, 1, 1, 1, 1, 1, 1, 1, 1, 1, 1, 1, 1, 1, 1, 1, 1, 1, 1, 1, 1, 1, 1, 1, 1, 1, 1, 1, 1, 1, 1, 1, 1, 1, 1, 1, 1, 1, 1, 1, 1, 1, 1, 1, 1, 1, 1, 1, 1, 1, 1, 1, 1, 1, 1, 1, 1, 1, 1, 1, 1, 1, 1, 1, 1, 1, 1, 1, 1, 1, 1, 1, 1, 1, 1, 1, 1, 1, 1, 1, 1, 1, 1, 1, 1, 1, 1, 1, 1, 1, 1, 1, 1, 1, 1, 1, 1, 1, 1, 1, 1, 1, 1, 1, 1, 1, 1, 1, 1, 1, 1, 0, 0, 0, 0, 0, 0, 0, 0, 0, 0, 0, 0, 0, 0, 0, 0, 0, 0, 0, 0, 0, 0, 0, 0, 0, 0, 0, 0, 0, 0, 0, 0, 0, 0, 0, 0, 0, 0, 0, 0, 0, 0, 0, 0, 0, 0, 0, 0, 0, 0, 0, 0, 0, 0, 0, 0, 0, 0, 0, 0, 0, 0, 0, 0, 0, 0, 0, 0, 0, 0, 0, 0, 0, 0, 0, 0, 0, 0, 0, 0, 0, 0, 0, 0, 0, 0, 0, 0, 0, 0, 0, 0, 0, 0, 0, 0, 0, 0, 0, 0, 0, 0, 0, 0, 0, 0, 0, 0, 0, 0, 0, 0, 0, 0, 0, 0, 0, 0, 0, 0, 0, 0, 0, 0, 0, 0, 0, 0, 0, 0], 'labels': [1713, 2, 994, 102, 4663, 3155, 389, 7, 18, 9, 5, 37, 30, 509, 1225, 1666, 13, 8, 5798, 3140, 8, 212, 12851, 725, 19, 705, 145, 24, 13, 5798, 7084, 34, 2846, 21220, 27, 301, 102, 683, 536, 7769, 5, 117, 152, 2444, 1902, 87, 15, 3, 102, 4122, 25342, 834, 61, 517, 40, 32, 935, 4885, 30, 509, 1225, 1666, 41, 1259, 15, 12, 18309, 3619, 738, 61, 19, 1146, 145, 24, 13, 15775, 342, 30, 509, 1225, 1666, 16, 10715, 348, 31, 7, 13445, 121, 134, 77, 565, 17320, 19, 14019, 3, 23161, 11, 8, 5798, 16, 8, 10715, 348, 31, 7, 13445, 19, 19, 32, 17, 4554, 28, 18309, 6, 8, 6145, 13, 17320, 16, 8, 15775, 342, 19, 8, 337, 38, 16, 8, 212, 12851, 725, 1713, 2, 7771, 1575, 4663, 3155, 4073, 13, 8, 826, 19, 59, 1176, 81, 3, 24422, 4885, 212, 12851, 725, 31, 61, 1713, 2, 32, 102, 9, 4663, 3155, 216, 3357, 32, 12563, 13, 8, 5798, 3140, 8, 212, 12851, 725, 19, 705, 145, 24, 13, 8, 5798, 7084, 34, 1713, 2, 32, 102, 115, 4663, 3155, 3, 21597, 509, 7, 15, 6145, 16, 8, 212, 12851, 725, 19, 8, 337, 38, 24, 16, 3, 24422, 4885, 15775, 342, 1713, 2, 32, 102, 75, 4663, 3155, 7762, 3929, 1575, 13, 3, 9, 7010, 295, 3, 9, 15, 27953, 15, 6313, 7, 8, 1717, 2537, 12, 8, 3, 24422, 83, 9, 7, 1713, 2, 32, 102, 26, 4663, 3155, 37, 30, 509, 1225, 1666, 13, 8, 5798, 3140, 8, 212, 12851, 725, 19, 705, 145, 24, 13, 5798, 7084, 34, 1]}\n"
     ]
    }
   ],
   "source": [
    "print(tokenized_datasets['validation'][0])"
   ]
  },
  {
   "cell_type": "code",
   "execution_count": 242,
   "id": "6ac28299-7337-47d3-a97e-15d6bd64485d",
   "metadata": {},
   "outputs": [],
   "source": [
    "small_train_dataset = tokenized_datasets[\"train\"].shuffle(seed=42).select(range(50))\n",
    "small_eval_dataset = tokenized_datasets[\"validation\"].shuffle(seed=42).select(range(50))"
   ]
  },
  {
   "cell_type": "code",
   "execution_count": 134,
   "id": "2499d281-4720-4f6a-852d-bd834d442b10",
   "metadata": {},
   "outputs": [
    {
     "name": "stderr",
     "output_type": "stream",
     "text": [
      "D:\\miniconda3\\envs\\read-for-speed\\Lib\\site-packages\\transformers\\generation\\utils.py:1369: UserWarning: Using `max_length`'s default (20) to control the generation length. This behaviour is deprecated and will be removed from the config in v5 of Transformers -- we recommend using `max_new_tokens` to control the maximum length of the generation.\n",
      "  warnings.warn(\n"
     ]
    },
    {
     "name": "stdout",
     "output_type": "stream",
     "text": [
      "Question: What is bob's name?Options:A BobB BobC\n"
     ]
    }
   ],
   "source": [
    "text = \"Create a multiple choice question from the following text: My name is bob. I have five cats.\"\n",
    "tokenized_text = tokenizer(text, return_tensors='pt').input_ids\n",
    "outputs = model.generate(tokenized_text)\n",
    "print(tokenizer.decode(outputs[0], skip_special_tokens=True))"
   ]
  },
  {
   "cell_type": "code",
   "execution_count": 243,
   "id": "28778301-6823-4cbc-ae1b-2a5075c3c622",
   "metadata": {},
   "outputs": [],
   "source": [
    "batch_size = 4\n",
    "# args = Seq2SeqTrainingArguments(\n",
    "args = TrainingArguments(\n",
    "    \"read-for-speed-test-model\",\n",
    "    evaluation_strategy = \"epoch\",\n",
    "    learning_rate=2e-3,\n",
    "    per_device_train_batch_size=batch_size,\n",
    "    per_device_eval_batch_size=batch_size,\n",
    "    weight_decay=0.01,\n",
    "    save_total_limit=3,\n",
    "    num_train_epochs=2,\n",
    "#     predict_with_generate=True,\n",
    "#     push_to_hub=True,\n",
    "    push_to_hub=False\n",
    ")\n",
    "\n",
    "data_collator = DataCollatorForSeq2Seq(tokenizer, model=model)"
   ]
  },
  {
   "cell_type": "code",
   "execution_count": 244,
   "id": "8b153762-6a2b-4191-8f1b-ef4b1e103ce6",
   "metadata": {
    "scrolled": true
   },
   "outputs": [
    {
     "data": {
      "text/html": [
       "\n",
       "    <div>\n",
       "      \n",
       "      <progress value='26' max='26' style='width:300px; height:20px; vertical-align: middle;'></progress>\n",
       "      [26/26 15:57, Epoch 2/2]\n",
       "    </div>\n",
       "    <table border=\"1\" class=\"dataframe\">\n",
       "  <thead>\n",
       " <tr style=\"text-align: left;\">\n",
       "      <th>Epoch</th>\n",
       "      <th>Training Loss</th>\n",
       "      <th>Validation Loss</th>\n",
       "    </tr>\n",
       "  </thead>\n",
       "  <tbody>\n",
       "    <tr>\n",
       "      <td>1</td>\n",
       "      <td>No log</td>\n",
       "      <td>1.092706</td>\n",
       "    </tr>\n",
       "    <tr>\n",
       "      <td>2</td>\n",
       "      <td>No log</td>\n",
       "      <td>0.940038</td>\n",
       "    </tr>\n",
       "  </tbody>\n",
       "</table><p>"
      ],
      "text/plain": [
       "<IPython.core.display.HTML object>"
      ]
     },
     "metadata": {},
     "output_type": "display_data"
    },
    {
     "data": {
      "text/plain": [
       "TrainOutput(global_step=26, training_loss=1.0821060767540565, metrics={'train_runtime': 972.6663, 'train_samples_per_second': 0.103, 'train_steps_per_second': 0.027, 'total_flos': 34237867622400.0, 'train_loss': 1.0821060767540565, 'epoch': 2.0})"
      ]
     },
     "execution_count": 244,
     "metadata": {},
     "output_type": "execute_result"
    }
   ],
   "source": [
    "# trainer = Seq2SeqTrainer(\n",
    "trainer = Trainer(\n",
    "    model,\n",
    "    args,\n",
    "    train_dataset=small_train_dataset,\n",
    "    eval_dataset=small_eval_dataset,\n",
    "    data_collator=data_collator,\n",
    "    tokenizer=tokenizer,\n",
    ")\n",
    "\n",
    "trainer.train()"
   ]
  },
  {
   "cell_type": "code",
   "execution_count": 246,
   "id": "c923f8eb-0d30-42eb-9ae8-c01005acca34",
   "metadata": {},
   "outputs": [
    {
     "name": "stdout",
     "output_type": "stream",
     "text": [
      "tensor([[   0, 1713,    2,  994,  102, 4663, 3155,  363,   19,   95,   58,    8,\n",
      "         5796, 1713,    2, 7771, 1575, 4663, 3155,  363]])\n",
      "#exp#> What is up? the sky #question#> What\n"
     ]
    }
   ],
   "source": [
    "text = \"What is up? the sky\"\n",
    "tokenized_text = tokenizer(text, return_tensors='pt').input_ids\n",
    "outputs = model.generate(tokenized_text)\n",
    "print(outputs)\n",
    "print(tokenizer.decode(outputs[0], skip_special_tokens=True))"
   ]
  },
  {
   "cell_type": "code",
   "execution_count": 13,
   "id": "260a8ad0",
   "metadata": {},
   "outputs": [
    {
     "data": {
      "application/vnd.jupyter.widget-view+json": {
       "model_id": "d33e10c83e434b65af20b039a2a36e8b",
       "version_major": 2,
       "version_minor": 0
      },
      "text/plain": [
       "Upload file pytorch_model.bin:   0%|          | 1.00/945M [00:00<?, ?B/s]"
      ]
     },
     "metadata": {},
     "output_type": "display_data"
    },
    {
     "data": {
      "application/vnd.jupyter.widget-view+json": {
       "model_id": "c9d3095e3332476fad5e8a767cb0156b",
       "version_major": 2,
       "version_minor": 0
      },
      "text/plain": [
       "Upload file runs/Oct17_13-39-37_DESKTOP-Q7BHUCL/events.out.tfevents.1697564386.DESKTOP-Q7BHUCL.17232.0:   0%| …"
      ]
     },
     "metadata": {},
     "output_type": "display_data"
    },
    {
     "data": {
      "application/vnd.jupyter.widget-view+json": {
       "model_id": "643e4337e21f4bd59c91932812b248bd",
       "version_major": 2,
       "version_minor": 0
      },
      "text/plain": [
       "Upload file spiece.model:   0%|          | 1.00/773k [00:00<?, ?B/s]"
      ]
     },
     "metadata": {},
     "output_type": "display_data"
    },
    {
     "data": {
      "application/vnd.jupyter.widget-view+json": {
       "model_id": "3d88c49776d04e5f83521a29bcefb0c1",
       "version_major": 2,
       "version_minor": 0
      },
      "text/plain": [
       "Upload file training_args.bin:   0%|          | 1.00/4.06k [00:00<?, ?B/s]"
      ]
     },
     "metadata": {},
     "output_type": "display_data"
    },
    {
     "name": "stderr",
     "output_type": "stream",
     "text": [
      "To https://huggingface.co/AJCheu/read-for-speed-test-model\n",
      "   02df199..f1b38f6  main -> main\n",
      "\n",
      "To https://huggingface.co/AJCheu/read-for-speed-test-model\n",
      "   f1b38f6..7952045  main -> main\n",
      "\n"
     ]
    },
    {
     "data": {
      "text/plain": [
       "'https://huggingface.co/AJCheu/read-for-speed-test-model/commit/f1b38f65b98e61fb4d7bb9de37b296c4118abd12'"
      ]
     },
     "execution_count": 13,
     "metadata": {},
     "output_type": "execute_result"
    }
   ],
   "source": [
    "trainer.push_to_hub(\"End of training\")"
   ]
  },
  {
   "cell_type": "code",
   "execution_count": null,
   "id": "c34bb486",
   "metadata": {},
   "outputs": [],
   "source": []
  }
 ],
 "metadata": {
  "kernelspec": {
   "display_name": "read-for-speed-kernel",
   "language": "python",
   "name": "read-for-speed-kernel"
  },
  "language_info": {
   "codemirror_mode": {
    "name": "ipython",
    "version": 3
   },
   "file_extension": ".py",
   "mimetype": "text/x-python",
   "name": "python",
   "nbconvert_exporter": "python",
   "pygments_lexer": "ipython3",
   "version": "3.11.4"
  }
 },
 "nbformat": 4,
 "nbformat_minor": 5
}
